{
  "nbformat": 4,
  "nbformat_minor": 0,
  "metadata": {
    "kernelspec": {
      "name": "python36",
      "display_name": "Python 3.6",
      "language": "python"
    },
    "language_info": {
      "mimetype": "text/x-python",
      "nbconvert_exporter": "python",
      "name": "python",
      "pygments_lexer": "ipython3",
      "version": "3.6.6",
      "file_extension": ".py",
      "codemirror_mode": {
        "version": 3,
        "name": "ipython"
      }
    },
    "toc": {
      "nav_menu": {},
      "number_sections": true,
      "sideBar": true,
      "skip_h1_title": false,
      "toc_cell": false,
      "toc_position": {
        "height": "593px",
        "left": "0px",
        "right": "1099.27px",
        "top": "111px",
        "width": "212px"
      },
      "toc_section_display": "block",
      "toc_window_display": false
    },
    "varInspector": {
      "window_display": false,
      "cols": {
        "lenName": 16,
        "lenType": 16,
        "lenVar": 40
      },
      "kernels_config": {
        "python": {
          "library": "var_list.py",
          "delete_cmd_prefix": "del ",
          "delete_cmd_postfix": "",
          "varRefreshCmd": "print(var_dic_list())"
        },
        "r": {
          "library": "var_list.r",
          "delete_cmd_prefix": "rm(",
          "delete_cmd_postfix": ") ",
          "varRefreshCmd": "cat(var_dic_list()) "
        }
      },
      "types_to_exclude": [
        "module",
        "function",
        "builtin_function_or_method",
        "instance",
        "_Feature"
      ]
    },
    "colab": {
      "name": "PUB 1 - Uvod.ipynb",
      "provenance": [],
      "collapsed_sections": [],
      "include_colab_link": true
    }
  },
  "cells": [
    {
      "cell_type": "markdown",
      "metadata": {
        "id": "view-in-github",
        "colab_type": "text"
      },
      "source": [
        "<a href=\"https://colab.research.google.com/github/jankod/Programiranje-u-bioinformatici/blob/main/PUB_1_Uvod.ipynb\" target=\"_parent\"><img src=\"https://colab.research.google.com/assets/colab-badge.svg\" alt=\"Open In Colab\"/></a>"
      ]
    },
    {
      "cell_type": "markdown",
      "metadata": {
        "id": "00xXyDljFLsO"
      },
      "source": [
        "# Programiranje u bioinformatici\n",
        "\n",
        "## 1. Uvod\n",
        "\n",
        "\n",
        "Python je programski računalni jezik opće namjene. \n",
        "\n",
        "\n",
        "### Korisni linkovi\n",
        "\n",
        "\n",
        "Python za fizičare tutorial (hr):\n",
        "http://www.phy.pmf.unizg.hr/~kkumer/pyphy/index.html\n",
        "\n",
        "\n",
        "Python tutoriali: \n",
        "- https://docs.python.org/3.6/tutorial/index.html\n",
        "- https://www.tutorialspoint.com/python/index.htm\n",
        "\n",
        "\n",
        "Editor za pisanje python programa:\n",
        "- Pycharm comunity editon https://www.jetbrains.com/pycharm/ \n",
        "- Visual Studio Code https://code.visualstudio.com/\n",
        "- Sublime https://www.sublimetext.com/\n",
        "(Za programiranje na lokalnom računalu potrebno je lokalno instalirati python \n",
        "\n",
        "\n",
        "\n",
        "\n",
        "Kabinet za bioinformatiku:\n",
        "    doc. dr. sc. Janko Diminić\n",
        "    jdiminic@pbf.hr\n",
        "\n",
        "\n",
        "\n",
        "\n",
        "\n"
      ]
    },
    {
      "cell_type": "markdown",
      "metadata": {
        "id": "MJ-VIkG2FLsQ"
      },
      "source": [
        "### Računanje\n",
        "Python kao kalkulator"
      ]
    },
    {
      "cell_type": "code",
      "metadata": {
        "trusted": true,
        "id": "5DGddGxCFLsR",
        "outputId": "6e800915-154c-4992-de6e-20266d2fbf53",
        "colab": {
          "base_uri": "https://localhost:8080/",
          "height": 34
        }
      },
      "source": [
        "3 + 14 - 2 - 1"
      ],
      "execution_count": null,
      "outputs": [
        {
          "output_type": "execute_result",
          "data": {
            "text/plain": [
              "14"
            ]
          },
          "metadata": {
            "tags": []
          },
          "execution_count": 14
        }
      ]
    },
    {
      "cell_type": "code",
      "metadata": {
        "trusted": true,
        "id": "B-byA3XDFLsW",
        "outputId": "09a7d24c-ca0c-4218-f4db-482e14e93ecf",
        "colab": {
          "base_uri": "https://localhost:8080/",
          "height": 34
        }
      },
      "source": [
        "(2 - 3) / 3 * 4"
      ],
      "execution_count": null,
      "outputs": [
        {
          "output_type": "execute_result",
          "data": {
            "text/plain": [
              "-1.3333333333333333"
            ]
          },
          "metadata": {
            "tags": []
          },
          "execution_count": 15
        }
      ]
    },
    {
      "cell_type": "markdown",
      "metadata": {
        "id": "fbzns5OvFLsc"
      },
      "source": [
        "### Varijable"
      ]
    },
    {
      "cell_type": "markdown",
      "metadata": {
        "id": "khayJRxvFLsd"
      },
      "source": [
        "Vrijednost s desne strane znaka jednakosti dodjeljuje se varijabli s ljeve strane.\n",
        "- x je ime varijable koje smo mi zadali\n",
        "- = je operator pridruživanja\n",
        "- 2 je vrijednost koju pridružujemo varijabli x"
      ]
    },
    {
      "cell_type": "code",
      "metadata": {
        "trusted": true,
        "id": "I9OGS2QCFLse",
        "outputId": "0819d9f8-c624-45f9-aac3-74f9f8813c81",
        "colab": {
          "base_uri": "https://localhost:8080/",
          "height": 34
        }
      },
      "source": [
        "x = 23\n",
        "x"
      ],
      "execution_count": null,
      "outputs": [
        {
          "output_type": "execute_result",
          "data": {
            "text/plain": [
              "23"
            ]
          },
          "metadata": {
            "tags": []
          },
          "execution_count": 16
        }
      ]
    },
    {
      "cell_type": "markdown",
      "metadata": {
        "id": "08trjIq1FLsj"
      },
      "source": [
        "Automatski se ispisuje rezultat posljednje komande u datoj ćeliji. Ukoliko trebamo i ispis nekih unutarnjih komandi, treba upotrijebiti funkciju print()."
      ]
    },
    {
      "cell_type": "code",
      "metadata": {
        "trusted": false,
        "id": "Em0nFXA-FLsk",
        "outputId": "8502e0d5-9f69-41ab-dd6f-f7c55733f5d6",
        "colab": {
          "base_uri": "https://localhost:8080/",
          "height": 34
        }
      },
      "source": [
        "y = 23.122323452\n",
        "\n",
        "print(y)"
      ],
      "execution_count": null,
      "outputs": [
        {
          "output_type": "stream",
          "text": [
            "23.122323452\n"
          ],
          "name": "stdout"
        }
      ]
    },
    {
      "cell_type": "code",
      "metadata": {
        "trusted": true,
        "id": "DfeGET-dFLso",
        "outputId": "8512c660-f8f5-40f1-ab16-a49d0587ec29",
        "colab": {
          "base_uri": "https://localhost:8080/",
          "height": 34
        }
      },
      "source": [
        "# Nakon znaka ljestvi python interpreter tretira tekst kao komentar\n",
        "# i to se ne izvršava, kao što je ovaj tekst.\n",
        "print(\"Ova linija se izvršava\")"
      ],
      "execution_count": null,
      "outputs": [
        {
          "output_type": "stream",
          "text": [
            "Ova linija se izvršava\n"
          ],
          "name": "stdout"
        }
      ]
    },
    {
      "cell_type": "code",
      "metadata": {
        "trusted": true,
        "id": "ZCrgvGfuFLss",
        "outputId": "3d43252a-c9cd-4014-c29c-9c50a0b47252",
        "colab": {
          "base_uri": "https://localhost:8080/",
          "height": 84
        }
      },
      "source": [
        "# ime je varijabla tipa string\n",
        "ime = \"\"\"\n",
        "sadasd\n",
        "asdassd\n",
        "\"\"\"\n",
        "print(ime)"
      ],
      "execution_count": null,
      "outputs": [
        {
          "output_type": "stream",
          "text": [
            "\n",
            "sadasd\n",
            "asdassd\n",
            "\n"
          ],
          "name": "stdout"
        }
      ]
    },
    {
      "cell_type": "markdown",
      "metadata": {
        "id": "8I61sd33FLsx"
      },
      "source": [
        "Varijabla ime je definirana u ćeiliji iznad, \n",
        "ta ćelija mora biti prethodno izvršena da bi \n",
        "```print(ime)```\n",
        "radilo."
      ]
    },
    {
      "cell_type": "code",
      "metadata": {
        "trusted": true,
        "id": "-MNiBvHOFLsy",
        "outputId": "4c4add82-855a-44b3-f630-761d92c1f324",
        "colab": {
          "base_uri": "https://localhost:8080/",
          "height": 84
        }
      },
      "source": [
        "print(ime)"
      ],
      "execution_count": null,
      "outputs": [
        {
          "output_type": "stream",
          "text": [
            "\n",
            "sadasd\n",
            "asdassd\n",
            "\n"
          ],
          "name": "stdout"
        }
      ]
    },
    {
      "cell_type": "code",
      "metadata": {
        "trusted": false,
        "id": "dYOnD0TSFLs3",
        "outputId": "f24c4f63-6081-4004-e114-99200c482367",
        "colab": {
          "base_uri": "https://localhost:8080/",
          "height": 35
        }
      },
      "source": [
        "# varijabla dna tipa string\n",
        "dna = \"ATCGGTCGTCA\"\n",
        "\n",
        "dna"
      ],
      "execution_count": null,
      "outputs": [
        {
          "output_type": "execute_result",
          "data": {
            "application/vnd.google.colaboratory.intrinsic+json": {
              "type": "string"
            },
            "text/plain": [
              "'ATCGGTCGTCA'"
            ]
          },
          "metadata": {
            "tags": []
          },
          "execution_count": 21
        }
      ]
    },
    {
      "cell_type": "markdown",
      "metadata": {
        "id": "sat3hFbaFLs8"
      },
      "source": [
        "## Funkcije\n",
        "Funkcije su grupirani dio koda koji izvršava određenu radnju. \n",
        "Funkcije mogu biti ugrađene u programski jezik, a mogu ih pisati i korisnici. \n"
      ]
    },
    {
      "cell_type": "code",
      "metadata": {
        "trusted": false,
        "id": "IVBu9etWFLs8",
        "outputId": "45b92c47-b6c0-4c3b-9429-fca3536c24f8",
        "colab": {
          "base_uri": "https://localhost:8080/",
          "height": 218
        }
      },
      "source": [
        "# funkcija help() prima kao argument ime druge funkcije, a ono sto radi je\n",
        "# ispis dokumentacije o zadanoj fukciji.\n",
        "\n",
        "\n",
        "help(print)\n"
      ],
      "execution_count": null,
      "outputs": [
        {
          "output_type": "stream",
          "text": [
            "Help on built-in function print in module builtins:\n",
            "\n",
            "print(...)\n",
            "    print(value, ..., sep=' ', end='\\n', file=sys.stdout, flush=False)\n",
            "    \n",
            "    Prints the values to a stream, or to sys.stdout by default.\n",
            "    Optional keyword arguments:\n",
            "    file:  a file-like object (stream); defaults to the current sys.stdout.\n",
            "    sep:   string inserted between values, default a space.\n",
            "    end:   string appended after the last value, default a newline.\n",
            "    flush: whether to forcibly flush the stream.\n",
            "\n"
          ],
          "name": "stdout"
        }
      ]
    },
    {
      "cell_type": "markdown",
      "metadata": {
        "id": "RrN9dW5sFLtB"
      },
      "source": [
        "## Tipovi podataka\n",
        "\n",
        "Osnovni tipovi podataka/varijabli se ne označavaju u python jeziku ali postoje! Python sam zaključuje o kojem tipu podataka se radi. \n",
        "\n",
        "#### Brojevi\n",
        "- cijeli brojevi (integer int, long, kompleksni)\n",
        "- decimalni brojevi (float, double)\n",
        "- boolean (True ili False)\n",
        "- stringovi - niz znakova\n",
        "\n",
        "\n",
        "Stringovi se označavaju između jednostrukih ili dvostrukih navodnika (svejedno kojih). Za više linija se koriste trostruki jednostruki ili dvostruki navodnici.\n",
        "    "
      ]
    },
    {
      "cell_type": "code",
      "metadata": {
        "trusted": false,
        "id": "KHdyuKWlFLtD",
        "outputId": "78b6f6c7-8207-42cb-a407-df38bf77b159",
        "colab": {
          "base_uri": "https://localhost:8080/",
          "height": 34
        }
      },
      "source": [
        "x = 2.3344393939484883838282828823435345345345345\n",
        "type(x)"
      ],
      "execution_count": null,
      "outputs": [
        {
          "output_type": "execute_result",
          "data": {
            "text/plain": [
              "float"
            ]
          },
          "metadata": {
            "tags": []
          },
          "execution_count": 23
        }
      ]
    },
    {
      "cell_type": "code",
      "metadata": {
        "trusted": false,
        "id": "B2lsamzkFLtH",
        "outputId": "14a16865-19b9-48d2-b9d6-b549044bcb1c",
        "colab": {
          "base_uri": "https://localhost:8080/",
          "height": 34
        }
      },
      "source": [
        "x = 2.2\n",
        "type(x)"
      ],
      "execution_count": null,
      "outputs": [
        {
          "output_type": "execute_result",
          "data": {
            "text/plain": [
              "float"
            ]
          },
          "metadata": {
            "tags": []
          },
          "execution_count": 24
        }
      ]
    },
    {
      "cell_type": "code",
      "metadata": {
        "trusted": true,
        "id": "WbVoUWtyFLtL",
        "outputId": "a985b238-95f6-4b73-e6c0-97d638b9f7df",
        "colab": {
          "base_uri": "https://localhost:8080/",
          "height": 34
        }
      },
      "source": [
        "x = \"neki string\" # dvostruki navodnici\n",
        "print (x)"
      ],
      "execution_count": null,
      "outputs": [
        {
          "output_type": "stream",
          "text": [
            "neki string\n"
          ],
          "name": "stdout"
        }
      ]
    },
    {
      "cell_type": "code",
      "metadata": {
        "trusted": true,
        "id": "oxG1XsJOFLtQ",
        "outputId": "2ce263b9-1cbf-40f3-dabe-60bc208e54de",
        "colab": {
          "base_uri": "https://localhost:8080/",
          "height": 34
        }
      },
      "source": [
        "ime = 'Ovo je ime' \n",
        "\n",
        "print (ime, type(ime))"
      ],
      "execution_count": null,
      "outputs": [
        {
          "output_type": "stream",
          "text": [
            "Ovo je ime <class 'str'>\n"
          ],
          "name": "stdout"
        }
      ]
    },
    {
      "cell_type": "code",
      "metadata": {
        "trusted": false,
        "id": "JmxKbbCiFLtV"
      },
      "source": [
        "# za tekst s više linija koristimo trostruke navodnike\n",
        "recenica = \"\"\"\n",
        "Ovo je velika recenica u više\n",
        "linija koja. \n",
        "\"\"\"\n",
        "\n",
        "print (recenica)"
      ],
      "execution_count": null,
      "outputs": []
    },
    {
      "cell_type": "code",
      "metadata": {
        "trusted": false,
        "id": "YIRM5E_GFLta"
      },
      "source": [
        "# Znak \\n je escape znak za novi red.\n",
        "# Postoji i \\t znak za tabulator (jedan znak za razmak od 4 mjesta)\n",
        "recenica = \"Prvi red \\n Drugi red \\n Treci red\"\n",
        "print(recenica)"
      ],
      "execution_count": null,
      "outputs": []
    },
    {
      "cell_type": "code",
      "metadata": {
        "trusted": false,
        "id": "Ek30Ld5zFLtf"
      },
      "source": [
        "# ASCII tablica znakovnih kodova\n",
        "# https://python-reference.readthedocs.io/en/latest/docs/str/ASCII.html\n",
        "\n",
        "for ch in \"01234 abcdefgh ABCD Z\":\n",
        "    code = ord(ch)\n",
        "    print(ch, \" -> \", code)\n",
        "    "
      ],
      "execution_count": null,
      "outputs": []
    },
    {
      "cell_type": "markdown",
      "metadata": {
        "id": "41K2WTk8FLtl"
      },
      "source": [
        "### Ispis fukcijom print()\n",
        "Postoji više načina"
      ]
    },
    {
      "cell_type": "code",
      "metadata": {
        "trusted": false,
        "id": "uRhjH8oOFLtn",
        "outputId": "ad7fe091-a0a5-41a7-92ad-2b2b0a31dbb8",
        "colab": {
          "base_uri": "https://localhost:8080/",
          "height": 34
        }
      },
      "source": [
        "# Ispis pomocu zareza funkcijom print\n",
        "x = 2\n",
        "y = 3\n",
        "print (\"X =\", x, \" Y =\", y)"
      ],
      "execution_count": null,
      "outputs": [
        {
          "output_type": "stream",
          "text": [
            "X = 2  Y = 3\n"
          ],
          "name": "stdout"
        }
      ]
    },
    {
      "cell_type": "code",
      "metadata": {
        "scrolled": false,
        "trusted": false,
        "id": "JHMRU4TZFLtt",
        "outputId": "b5ae79ef-911c-4f1e-f308-0e339b1113dc",
        "colab": {
          "base_uri": "https://localhost:8080/",
          "height": 50
        }
      },
      "source": [
        "# Ispis pomocu oznaka.\n",
        "# Koristi se znak % i slovo koje oznacava o kojem tipu varijable se radi.\n",
        "# i, d = integer (koristite jedan ili drugi ili oba)\n",
        "# f = float\n",
        "# s = string\n",
        "\n",
        "y = 8\n",
        "print (\"int-ovi x = %d y = %d\" %(x, y))\n",
        "\n",
        "x = 2.2  #Varijabla x je float (broj s pomičnim zarezom)\n",
        "\n",
        "print (\"Float x = %f y = %d\" %(x, y))"
      ],
      "execution_count": null,
      "outputs": [
        {
          "output_type": "stream",
          "text": [
            "int-ovi x = 2 y = 8\n",
            "Float x = 2.200000 y = 8\n"
          ],
          "name": "stdout"
        }
      ]
    },
    {
      "cell_type": "markdown",
      "metadata": {
        "id": "kHrOSl-AFLtz"
      },
      "source": [
        "Informacije o format() funkciji:\n",
        "https://docs.python.org/3.4/library/string.html#string-formatting"
      ]
    },
    {
      "cell_type": "code",
      "metadata": {
        "trusted": true,
        "id": "WWbxV8u3FLt0",
        "outputId": "5f88008a-111f-478b-9dcb-c8a4f9eca267",
        "colab": {
          "base_uri": "https://localhost:8080/",
          "height": 67
        }
      },
      "source": [
        "# Drugi oblik formatiranja.\n",
        "\n",
        "# Viticaste zagrade predstavljaju mjesto gdje se ubacuje varijabla \n",
        "# (moze se koristit i bez broja, onda automatski dodaje brojeve). \n",
        "x = 2\n",
        "y = 3\n",
        "\n",
        "\n",
        "print( \"neki text, ovo je x = {0}, y= {1}\".format(x, y) )\n",
        "\n",
        "t = \"neki text bez brojeva , ovo je x = {}, y= {}\".format(x, y)\n",
        "\n",
        "print (t)\n",
        "\n",
        "# f-string: unutar {} zagrada se upisuju varijable, a prije string se stavlja znak f\n",
        "\n",
        "print(f\"neki text, ovo je x={x} varijabla\")\n"
      ],
      "execution_count": null,
      "outputs": [
        {
          "output_type": "stream",
          "text": [
            "neki text, ovo je x = 2, y= 3\n",
            "neki text bez brojeva , ovo je x = 2, y= 3\n",
            "neki text, ovo je x=2 varijabla\n"
          ],
          "name": "stdout"
        }
      ]
    },
    {
      "cell_type": "code",
      "metadata": {
        "trusted": false,
        "id": "fnJPN-mNFLt7",
        "outputId": "5ab673e6-978d-45ee-dbb3-4b8bbc3b34ed",
        "colab": {
          "base_uri": "https://localhost:8080/",
          "height": 34
        }
      },
      "source": [
        "dna = \"ATCGTG\"\n",
        "print ( dna[2] ) # ispisuje znak s trece pozicije jer broji od nule!"
      ],
      "execution_count": null,
      "outputs": [
        {
          "output_type": "stream",
          "text": [
            "C\n"
          ],
          "name": "stdout"
        }
      ]
    },
    {
      "cell_type": "code",
      "metadata": {
        "trusted": false,
        "id": "Modc6sR3FLuA",
        "outputId": "65a62571-4209-4e1d-f885-ffa76fe6c071",
        "colab": {
          "base_uri": "https://localhost:8080/",
          "height": 67
        }
      },
      "source": [
        "# end je argument funkcije print() kojemu zadajemo sto da ispisuje na kraju. \n",
        "# Podrazumjevano (default) ispisuje znak za novi red \\n\n",
        "print(\"nešto\")\n",
        "print(\"nešto\")\n",
        "print(\"nešto\", end='---')\n"
      ],
      "execution_count": null,
      "outputs": [
        {
          "output_type": "stream",
          "text": [
            "nešto\n",
            "nešto\n",
            "nešto---"
          ],
          "name": "stdout"
        }
      ]
    },
    {
      "cell_type": "markdown",
      "metadata": {
        "id": "4usNWB0SFLuG"
      },
      "source": [
        "### Stringovi\n",
        "Niz alfanumeričkih znakova. Nepromjenjivi (eng. immutable).\n",
        "\n",
        "    len() fukncija koja vrača dužinu stinga\n",
        "    + sastavlja stringove\n",
        "    * ponavlja string\n",
        "    [] indeksiranje elemeata stringa\n",
        "    [:] izvdvajanje \n",
        "    in nalazi se u stringu"
      ]
    },
    {
      "cell_type": "code",
      "metadata": {
        "trusted": false,
        "id": "lflkF0RwFLuH"
      },
      "source": [
        "# Indeksiranje stringova\n",
        "\n",
        "# slice [begin:end:step]\n",
        "brojevi = \"123456789\"\n",
        "\n",
        "print (\"brojevi       \", brojevi)\n",
        "print (\"brojevi[:2]   \", brojevi[:2]) # ispisuje prva dva znaka\n",
        "print (\"brojevi[2:]   \", brojevi[2:]) # ispisuje sve osim prva dva znaka\n",
        "print (\"brojevi[2:5]  \", brojevi[2:5]) # ispisuje od drugog (broji od 0) do 5\n",
        "print (\"brojevi[-1]   \", brojevi[-1]) # ispisuje posljednji znak\n",
        "\n",
        "print (\"brojevi[2:7:2]\", brojevi[2:7]) # \n",
        "print (\"brojevi[::-1] \", brojevi[::-1]) # obrnuto\n",
        "\n"
      ],
      "execution_count": null,
      "outputs": []
    },
    {
      "cell_type": "code",
      "metadata": {
        "trusted": false,
        "id": "-iCnHY5hFLuM"
      },
      "source": [
        "# Označavanje pomoču jednostrukih ili dvostrukih navodnika\n",
        "dna = \"ATCGGTCTCAACTGT\"\n",
        "print (  len(dna) )\n"
      ],
      "execution_count": null,
      "outputs": []
    },
    {
      "cell_type": "code",
      "metadata": {
        "trusted": false,
        "id": "41JVQ5koFLuT"
      },
      "source": [
        "print (\"\"\"\n",
        "Veliki ispis u više linija.\n",
        "Ovo je drugi red.\n",
        "\"\"\")"
      ],
      "execution_count": null,
      "outputs": []
    },
    {
      "cell_type": "code",
      "metadata": {
        "trusted": false,
        "id": "9fg-1FEXFLua"
      },
      "source": [
        "3 * 'A' + 'T'\n"
      ],
      "execution_count": null,
      "outputs": []
    },
    {
      "cell_type": "code",
      "metadata": {
        "trusted": false,
        "id": "mLOs_S25FLug"
      },
      "source": [
        "# Množenje stringova \n",
        "'la' * 3"
      ],
      "execution_count": null,
      "outputs": []
    },
    {
      "cell_type": "code",
      "metadata": {
        "trusted": true,
        "id": "o9I0O9MVFLuj"
      },
      "source": [
        "# Neke funkcije za rad sa stringovima\n",
        "\n",
        "recenica = \"Ovo je jedna rečenica\"\n",
        "\n",
        "# len(recenica)\n",
        "n =  recenica.lower()\n",
        "print ( \"1.\", n)  # u mala slova\n",
        "print ( \"2.\", \"Ovo je jedna rečenica\".upper())  # u velika slova\n",
        "print ( \"3.\", recenica.capitalize() ) # prvo slovo u veliko\n",
        "print ( \"4.\", recenica.title() ) # prvo slovo svake rijeci u veliko\n",
        "print ( \"5.\", recenica.swapcase() ) # obrce mala u velika, a velika u mala\n",
        "print ( \"6.\", recenica.find(\"ejd\")) # pozicija gdje pocinje trazeni string\n",
        "print ( \"7.\", len(recenica)) # broj znakova u recenici\n",
        "print ( \"8.\", recenica.replace(\"jedna\", \"druga\")) # zamnjenju dio stringa\n",
        "print ( \"9.\", recenica.split(\" \")) # razdvaja na djelove\n"
      ],
      "execution_count": null,
      "outputs": []
    },
    {
      "cell_type": "markdown",
      "metadata": {
        "id": "QnXPwp1fFLun"
      },
      "source": [
        "### Aritmetički operatori\n",
        "\n",
        "    + zbaranje\n",
        "    - oduzimanje\n",
        "    * množenje\n",
        "    / djeljenje\n",
        "    % djeljene s ostatokom (modularno djeljenje)\n",
        "    ** potenciranje\n",
        "\n",
        "\n",
        "### Logički operatori\n",
        "     \n",
        "    NOT\tnejednako\n",
        "    \n",
        "    OR ili \n",
        "    \n",
        "    AND i \n",
        "    \n",
        "### Relacijski operatori    \n",
        "    \n",
        "    ==\tjednako\n",
        "    \n",
        "    !=  različito \n",
        "    \n",
        "    <\tmanje od\n",
        "    \n",
        "    >\tveče od\n",
        "    \n",
        "    <=\tmanje ili jednako\n",
        "    \n",
        "    >=\tveće ili jednako\n"
      ]
    },
    {
      "cell_type": "code",
      "metadata": {
        "trusted": true,
        "id": "Xdy_WvdAFLun",
        "outputId": "9adbcece-28cb-4a30-a5d8-dc88159e71ec",
        "colab": {
          "base_uri": "https://localhost:8080/",
          "height": 34
        }
      },
      "source": [
        "# Primjer usporedbe dva broja. Rezultat usporedbe 2==2 je variajbla tipa \n",
        "# Boolean v\n",
        "v = (2 == 2)\n",
        "v\n"
      ],
      "execution_count": null,
      "outputs": [
        {
          "output_type": "execute_result",
          "data": {
            "text/plain": [
              "True"
            ]
          },
          "metadata": {
            "tags": []
          },
          "execution_count": 34
        }
      ]
    },
    {
      "cell_type": "code",
      "metadata": {
        "trusted": true,
        "id": "e5Vsm2jFFLur",
        "outputId": "8f184c90-5cda-4fb7-d52e-787d7c2ffe87",
        "colab": {
          "base_uri": "https://localhost:8080/",
          "height": 34
        }
      },
      "source": [
        "# Mozemo samo usporediti dva broja i rezultat (boolean) ce se ispisati\n",
        "2 == 3\n"
      ],
      "execution_count": null,
      "outputs": [
        {
          "output_type": "execute_result",
          "data": {
            "text/plain": [
              "False"
            ]
          },
          "metadata": {
            "tags": []
          },
          "execution_count": 35
        }
      ]
    },
    {
      "cell_type": "code",
      "metadata": {
        "trusted": false,
        "id": "RO-mdH0aFLuv"
      },
      "source": [
        "2 < 3"
      ],
      "execution_count": null,
      "outputs": []
    },
    {
      "cell_type": "code",
      "metadata": {
        "trusted": false,
        "id": "6Sf1v_TpFLuy"
      },
      "source": [
        "2 > 3 "
      ],
      "execution_count": null,
      "outputs": []
    },
    {
      "cell_type": "code",
      "metadata": {
        "trusted": false,
        "id": "p7giHPj9FLu2",
        "outputId": "b1d30570-55ca-4dd0-dfc9-ddaba1afe1e0",
        "colab": {
          "base_uri": "https://localhost:8080/",
          "height": 34
        }
      },
      "source": [
        "True"
      ],
      "execution_count": null,
      "outputs": [
        {
          "output_type": "execute_result",
          "data": {
            "text/plain": [
              "True"
            ]
          },
          "metadata": {
            "tags": []
          },
          "execution_count": 37
        }
      ]
    },
    {
      "cell_type": "code",
      "metadata": {
        "trusted": true,
        "id": "xX845GLtFLu6",
        "outputId": "b442fa88-b3d9-459f-d0e0-b92066a6e2c9",
        "colab": {
          "base_uri": "https://localhost:8080/",
          "height": 34
        }
      },
      "source": [
        "# Kada izvrsimo ovu liniju koda dobijemo obrnuto od True, a to je False\n",
        "not True"
      ],
      "execution_count": null,
      "outputs": [
        {
          "output_type": "execute_result",
          "data": {
            "text/plain": [
              "False"
            ]
          },
          "metadata": {
            "tags": []
          },
          "execution_count": 39
        }
      ]
    },
    {
      "cell_type": "code",
      "metadata": {
        "trusted": false,
        "id": "ACTadpaAFLu-",
        "outputId": "3dbf9521-a320-4518-fb81-1f0dc7e543c0",
        "colab": {
          "base_uri": "https://localhost:8080/",
          "height": 34
        }
      },
      "source": [
        "# Netočno predstavlja ove vrijednosti:\n",
        "False\n",
        "None \n",
        "0\n",
        "# \"\", (), [], {} # prazne kolekcije\n"
      ],
      "execution_count": null,
      "outputs": [
        {
          "output_type": "execute_result",
          "data": {
            "text/plain": [
              "0"
            ]
          },
          "metadata": {
            "tags": []
          },
          "execution_count": 40
        }
      ]
    },
    {
      "cell_type": "code",
      "metadata": {
        "trusted": true,
        "id": "sHkCU59wFLvC",
        "outputId": "431e66de-2078-46d9-c493-0c25eeab489d",
        "colab": {
          "base_uri": "https://localhost:8080/",
          "height": 34
        }
      },
      "source": [
        "# Da li je x između 1 i 10 (isključno)?\n",
        "x = 9\n",
        "1 < x < 10"
      ],
      "execution_count": null,
      "outputs": [
        {
          "output_type": "execute_result",
          "data": {
            "text/plain": [
              "True"
            ]
          },
          "metadata": {
            "tags": []
          },
          "execution_count": 41
        }
      ]
    },
    {
      "cell_type": "code",
      "metadata": {
        "trusted": true,
        "run_control": {
          "marked": true
        },
        "id": "1KjPw--bFLvG",
        "outputId": "d264d296-eaf6-484a-e2bb-ea379a9fec42",
        "colab": {
          "base_uri": "https://localhost:8080/",
          "height": 50
        }
      },
      "source": [
        "x = 2\n",
        "# ako je x jednak 2 ili 4 ispisat ce 'je'\n",
        "if x == 2 or x == 4:\n",
        "    print ('je')\n",
        "\n",
        "    \n",
        "print (\"Nije od if\")"
      ],
      "execution_count": null,
      "outputs": [
        {
          "output_type": "stream",
          "text": [
            "je\n",
            "Nije od if\n"
          ],
          "name": "stdout"
        }
      ]
    },
    {
      "cell_type": "markdown",
      "metadata": {
        "id": "ZCG8S9h5FLvI"
      },
      "source": [
        "#### Uvlačenje koda\n",
        "Python koristi uvlačenje kao metodu razlikovanja programskih blokova, tj. ne koristi vitičaste zagrade ili ključne riječi kao većina programskih jezika.  Uvlačenje linije koda znači da dolazi novi, ugniježđeni blok, dok smanjenje označava kraj trenutnog bloka. Za uvlačenje se koristi tab tipka."
      ]
    },
    {
      "cell_type": "markdown",
      "metadata": {
        "id": "jdnhLBtgFLvJ"
      },
      "source": [
        "### if komanda\n",
        "Provjerava neki uslov, da li je rezultat uslova tocan, ako je onda izvrsava (uvučeni) blok koda."
      ]
    },
    {
      "cell_type": "code",
      "metadata": {
        "trusted": true,
        "id": "HBEalzbdFLvK",
        "outputId": "d414bd83-1739-4593-fb1d-15fc43755ce3",
        "colab": {
          "base_uri": "https://localhost:8080/",
          "height": 34
        }
      },
      "source": [
        "varijabla = False\n",
        "\n",
        "if varijabla:\n",
        "    print (\"ovo se izvršilo\")\n",
        "    \n",
        "print (\"kraj programa\")\n"
      ],
      "execution_count": null,
      "outputs": [
        {
          "output_type": "stream",
          "text": [
            "kraj programa\n"
          ],
          "name": "stdout"
        }
      ]
    },
    {
      "cell_type": "code",
      "metadata": {
        "trusted": false,
        "id": "i-XrS2COFLvQ"
      },
      "source": [
        "varijabla = False\n",
        "if varijabla:\n",
        "    print(\"ovo se nikad ne izvrši\")\n",
        "    \n",
        "print (\"kraj programa\")    "
      ],
      "execution_count": null,
      "outputs": []
    },
    {
      "cell_type": "code",
      "metadata": {
        "trusted": true,
        "id": "jbou-IgvFLvV",
        "outputId": "68ccb0a4-f2ef-483d-c409-d839e88826c5",
        "colab": {
          "base_uri": "https://localhost:8080/",
          "height": 34
        }
      },
      "source": [
        "x = 10\n",
        "# ako je x izmedju 1 i 4\n",
        "if x >= 1 and x <= 10: \n",
        "    print('izvrsavam se ako je if uslov zadovoljen') # ova komanda je unutar bloka if naredbe jer je uvučena"
      ],
      "execution_count": null,
      "outputs": [
        {
          "output_type": "stream",
          "text": [
            "izvrsavam se ako je if uslov zadovoljen\n"
          ],
          "name": "stdout"
        }
      ]
    },
    {
      "cell_type": "code",
      "metadata": {
        "trusted": true,
        "id": "vQCOrrKAFLvd",
        "outputId": "ebba1dda-71a0-4ce2-c0b2-7fffc68aad40",
        "colab": {
          "base_uri": "https://localhost:8080/",
          "height": 34
        }
      },
      "source": [
        "x = 4\n",
        "if x == 3:\n",
        "    print (\"x je jednak 3\")\n",
        "\n",
        "if x == 4:\n",
        "    print (\"x je jednak 4\")\n",
        "    \n",
        "if x < 2:\n",
        "    print (\"x je manji od 2\")"
      ],
      "execution_count": null,
      "outputs": [
        {
          "output_type": "stream",
          "text": [
            "x je jednak 4\n"
          ],
          "name": "stdout"
        }
      ]
    },
    {
      "cell_type": "markdown",
      "metadata": {
        "id": "WFFOsaA2FLvi"
      },
      "source": [
        "### if-else\n",
        "**Else** se koristi kad zelimo izvrsiti naredbu koju nije if uslov zadovoljio.\n"
      ]
    },
    {
      "cell_type": "code",
      "metadata": {
        "trusted": true,
        "id": "eNipImb2FLvk",
        "outputId": "fd56cfb9-6483-447e-e488-444963e33286",
        "colab": {
          "base_uri": "https://localhost:8080/",
          "height": 34
        }
      },
      "source": [
        "s = \"AAA\"\n",
        "\n",
        "if s == \"AAA\":\n",
        "    print(\"Varijabla s je AAA\")\n",
        "else:\n",
        "    print(\"Nisam ništa pronašao\")\n",
        "    "
      ],
      "execution_count": null,
      "outputs": [
        {
          "output_type": "stream",
          "text": [
            "Varijabla s je AAA\n"
          ],
          "name": "stdout"
        }
      ]
    },
    {
      "cell_type": "code",
      "metadata": {
        "trusted": false,
        "id": "f3aoi5_mFLvn",
        "outputId": "e0b3cf03-ce84-482c-e461-257596d04814",
        "colab": {
          "base_uri": "https://localhost:8080/",
          "height": 34
        }
      },
      "source": [
        "# Primjer elif komande\n",
        "\n",
        "s = \"CCCDDD\"\n",
        "\n",
        "if s == \"AAA\":\n",
        "    print(\"Varijabla s je AAA\")\n",
        "    \n",
        "elif s == \"BBB\":\n",
        "    print (\"Varijabla s je BBB\")\n",
        "    \n",
        "elif s == \"CCC\":\n",
        "    print (\"Varijabla s je CCC\")\n",
        "\n",
        "else:\n",
        "  print(\"Nisam ništa pronašao\")\n",
        "\n",
        "    "
      ],
      "execution_count": null,
      "outputs": [
        {
          "output_type": "stream",
          "text": [
            "Nisam ništa pronašao\n"
          ],
          "name": "stdout"
        }
      ]
    },
    {
      "cell_type": "code",
      "metadata": {
        "trusted": true,
        "id": "4AK0wLEIFLvr",
        "outputId": "5c5cabd4-4f4d-4a26-eb81-59e30c814d6e",
        "colab": {
          "base_uri": "https://localhost:8080/",
          "height": 34
        }
      },
      "source": [
        "# ključna rijec in\n",
        "\n",
        "s = \"ABC\"\n",
        "if \"B\" in s:\n",
        "    print(\"da\") \n",
        "else:\n",
        "    print(\"Nije \")\n"
      ],
      "execution_count": null,
      "outputs": [
        {
          "output_type": "stream",
          "text": [
            "da\n"
          ],
          "name": "stdout"
        }
      ]
    },
    {
      "cell_type": "code",
      "metadata": {
        "trusted": true,
        "id": "IOSw92G_FLvw",
        "outputId": "006ac3a8-e355-489d-c77c-440ee312c2a6",
        "colab": {
          "base_uri": "https://localhost:8080/",
          "height": 34
        }
      },
      "source": [
        "a = 22\n",
        "\n",
        "if a >= 22:\n",
        "    print(\"a >= 22 \")\n",
        "else:\n",
        "    if a >= 21:\n",
        "        print(\" a >= 21\")\n",
        "    else:\n",
        "        print(\"a je manji od 21\")"
      ],
      "execution_count": null,
      "outputs": [
        {
          "output_type": "stream",
          "text": [
            "a >= 22 \n"
          ],
          "name": "stdout"
        }
      ]
    },
    {
      "cell_type": "code",
      "metadata": {
        "trusted": true,
        "id": "0xdhIVYJFLv2",
        "outputId": "acdb5dff-646d-4188-d0ac-249bd0c99522",
        "colab": {
          "base_uri": "https://localhost:8080/",
          "height": 246
        }
      },
      "source": [
        "# S funkcijom input() mozemo od korisnika zatraziti neki podatak\n",
        "\n",
        "# Funkcija int() ce uneseni podataka pokusati pretvoriti u integer varijablu\n",
        "x = int( input(\"Unesi broj: \") )\n",
        "print (\"Uneseni podatak je: \", x)\n",
        "\n",
        "if x < 0:\n",
        "    print ('Negativni broj')\n",
        "elif x == 0:\n",
        "    print ('Nula')\n",
        "elif x == 1:\n",
        "    print ('Jedan ')\n",
        "else:\n",
        "    print ('ne znam koji je ovo broj, pozitivan')"
      ],
      "execution_count": null,
      "outputs": [
        {
          "output_type": "stream",
          "text": [
            "Unesi broj: 2sdfsdf\n"
          ],
          "name": "stdout"
        },
        {
          "output_type": "error",
          "ename": "ValueError",
          "evalue": "ignored",
          "traceback": [
            "\u001b[0;31m---------------------------------------------------------------------------\u001b[0m",
            "\u001b[0;31mValueError\u001b[0m                                Traceback (most recent call last)",
            "\u001b[0;32m<ipython-input-58-6beb0acfd1bf>\u001b[0m in \u001b[0;36m<module>\u001b[0;34m()\u001b[0m\n\u001b[1;32m      2\u001b[0m \u001b[0;34m\u001b[0m\u001b[0m\n\u001b[1;32m      3\u001b[0m \u001b[0;31m# Funkcija int() ce uneseni podataka pokusati pretvoriti u integer varijablu\u001b[0m\u001b[0;34m\u001b[0m\u001b[0;34m\u001b[0m\u001b[0;34m\u001b[0m\u001b[0m\n\u001b[0;32m----> 4\u001b[0;31m \u001b[0mx\u001b[0m \u001b[0;34m=\u001b[0m \u001b[0mint\u001b[0m\u001b[0;34m(\u001b[0m \u001b[0minput\u001b[0m\u001b[0;34m(\u001b[0m\u001b[0;34m\"Unesi broj: \"\u001b[0m\u001b[0;34m)\u001b[0m \u001b[0;34m)\u001b[0m\u001b[0;34m\u001b[0m\u001b[0;34m\u001b[0m\u001b[0m\n\u001b[0m\u001b[1;32m      5\u001b[0m \u001b[0mprint\u001b[0m \u001b[0;34m(\u001b[0m\u001b[0;34m\"Uneseni podatak je: \"\u001b[0m\u001b[0;34m,\u001b[0m \u001b[0mx\u001b[0m\u001b[0;34m)\u001b[0m\u001b[0;34m\u001b[0m\u001b[0;34m\u001b[0m\u001b[0m\n\u001b[1;32m      6\u001b[0m \u001b[0;34m\u001b[0m\u001b[0m\n",
            "\u001b[0;31mValueError\u001b[0m: invalid literal for int() with base 10: '2sdfsdf'"
          ]
        }
      ]
    },
    {
      "cell_type": "markdown",
      "metadata": {
        "id": "k3l338bIFLv6"
      },
      "source": [
        "### Prioritet izvršavanja operatora\n",
        "https://docs.python.org/3/reference/expressions.html#operator-precedence\n"
      ]
    },
    {
      "cell_type": "code",
      "metadata": {
        "trusted": true,
        "id": "kcotNAGzFLv7",
        "outputId": "a7550bf2-a978-4c8e-cf0f-01270b7b6d2a",
        "colab": {
          "base_uri": "https://localhost:8080/",
          "height": 34
        }
      },
      "source": [
        "# Da li ce prvo python raditi usporedbu dva broja ili mnozenje?\n",
        "x = 2 > 5 + 3 * 4\n",
        "type(x)"
      ],
      "execution_count": null,
      "outputs": [
        {
          "output_type": "execute_result",
          "data": {
            "text/plain": [
              "bool"
            ]
          },
          "metadata": {
            "tags": []
          },
          "execution_count": 61
        }
      ]
    },
    {
      "cell_type": "markdown",
      "metadata": {
        "id": "YXdxh_ZjFLv_"
      },
      "source": [
        "Zadaci\n"
      ]
    },
    {
      "cell_type": "code",
      "metadata": {
        "trusted": false,
        "id": "GYc2Emt9FLv_",
        "outputId": "4cae4416-f795-45c4-a026-f4b946683954",
        "colab": {
          "base_uri": "https://localhost:8080/",
          "height": 34
        }
      },
      "source": [
        "# Napravi varijablu \"broj\" koja sadrži neki broj,\n",
        "# 1. ispisi varijablu broj sa formatiranjem (\"Broj je {}\" ).format(broj)\n",
        "# 2. sa if ispitaj da li je broj veća od 5, ako je ispisi da je, ako nije ispisi \n",
        "#    da nije\n",
        "# 3. sa drugim if ispitaj da li je varijabla jednaka 1\n",
        "\n",
        "\n",
        "\n",
        "\n",
        "\n"
      ],
      "execution_count": null,
      "outputs": [
        {
          "output_type": "execute_result",
          "data": {
            "text/plain": [
              "1.2000000000000002"
            ]
          },
          "metadata": {
            "tags": []
          },
          "execution_count": 62
        }
      ]
    },
    {
      "cell_type": "code",
      "metadata": {
        "id": "E_HxEJVvOMcG",
        "outputId": "b07b77aa-a5b6-4971-b276-c85b0cafd439",
        "colab": {
          "base_uri": "https://localhost:8080/",
          "height": 34
        }
      },
      "source": [
        "\n",
        "# Podjeli dva broja 10 sa 3 i \n",
        "# 10 / 3\n",
        "# izracunjaj samo ostatak djeljenja i spremi u varijablu (modulo % )\n",
        "# podjeli i uzmi samo cijeli broj (cjelobrojno djeljenje //)\n",
        "\n",
        "a = 5\n",
        "b = 2\n",
        "m = a // b\n",
        "print(m)"
      ],
      "execution_count": null,
      "outputs": [
        {
          "output_type": "stream",
          "text": [
            "2\n"
          ],
          "name": "stdout"
        }
      ]
    },
    {
      "cell_type": "code",
      "metadata": {
        "id": "kWsbP4zIOGTa",
        "outputId": "7435e6dc-7bb2-452d-8f15-1d0fdd011947",
        "colab": {
          "base_uri": "https://localhost:8080/",
          "height": 34
        }
      },
      "source": [
        "d = 1.1 + 0.1\n",
        "d\n",
        "\n",
        "# rezultat je ovakav 1.2000000000000002 jer je to u binarnome isto kao i 10 / 3 u dekatskome"
      ],
      "execution_count": null,
      "outputs": [
        {
          "output_type": "execute_result",
          "data": {
            "text/plain": [
              "1.2000000000000002"
            ]
          },
          "metadata": {
            "tags": []
          },
          "execution_count": 63
        }
      ]
    },
    {
      "cell_type": "code",
      "metadata": {
        "trusted": false,
        "id": "Vz0lGYX3FLwE",
        "outputId": "eb0e935e-5a7d-4ef7-af8f-1685ea3a3586",
        "colab": {
          "base_uri": "https://localhost:8080/",
          "height": 34
        }
      },
      "source": [
        "# Primjer formatiranja\n",
        "broj = 5\n",
        "r = \"Broj je {} \"\n",
        "v = r.format(broj)\n",
        "\n",
        "print ( v  )"
      ],
      "execution_count": null,
      "outputs": [
        {
          "output_type": "stream",
          "text": [
            "Broj je 5 \n"
          ],
          "name": "stdout"
        }
      ]
    },
    {
      "cell_type": "code",
      "metadata": {
        "trusted": true,
        "id": "41iBdS-LFLwI",
        "outputId": "0e9ed932-e91f-4e9f-d5a7-41c9ec46a0a2",
        "colab": {
          "base_uri": "https://localhost:8080/",
          "height": 34
        }
      },
      "source": [
        "x = 11\n",
        "# ispitaj da li je x paran broj\n",
        "\n",
        "if x % 2 == 0:\n",
        "    print(\"paran je: \", x)\n",
        "else:\n",
        "    print (\"Neparan je\")\n",
        "    \n",
        "\n",
        "\n",
        "\n"
      ],
      "execution_count": null,
      "outputs": [
        {
          "output_type": "stream",
          "text": [
            "Neparan je\n"
          ],
          "name": "stdout"
        }
      ]
    },
    {
      "cell_type": "code",
      "metadata": {
        "trusted": true,
        "id": "392uTSp0FLwR"
      },
      "source": [
        "# lista\n",
        "\n",
        "l = [\"ATCGTGT\",\"CAGTGT\", \"ACTGTGT\"]\n",
        "\n",
        "\n",
        "print(l)\n",
        "\n",
        "\n",
        "\n",
        "\n",
        "\n",
        "\n",
        "\n"
      ],
      "execution_count": null,
      "outputs": []
    },
    {
      "cell_type": "markdown",
      "metadata": {
        "id": "54d1W8z-OblX"
      },
      "source": [
        "# New Section"
      ]
    }
  ]
}